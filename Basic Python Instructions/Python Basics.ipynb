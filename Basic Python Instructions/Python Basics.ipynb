{
 "cells": [
  {
   "cell_type": "markdown",
   "metadata": {},
   "source": [
    "## Python Basics\n",
    "\n",
    "The following cells will help illustrate some of the basic principles of coding in Python.\n",
    "\n",
    "First, we will go over how to create a directory for your python notebooks on your computer, and how to launch the Jupyter Lab coding environment."
   ]
  },
  {
   "cell_type": "markdown",
   "metadata": {},
   "source": [
    "### Creating Your Python Notebook\n",
    "\n",
    "To create your python notebooks, you will first need to navigate to the approrpiate directory on your computer.\n",
    "\n",
    "#### Getting Started\n",
    "\n",
    "To get started, you will need to create the directory, and launch the Jupyter Lab environment.\n",
    "\n",
    "1. Create a folder somewhere on your hard drive where you will store all the files for your Unit 3 project (e.g., data, python notebooks, ReadMe, etc.)\n",
    "\n",
    "The directory for this notebook is a folder called \"Python_Lessons\"\n",
    "\n",
    ">The file path for this lesson is as follows: `user/Desktop/UNC-Writing-105/Python_Lessons/Python Basics.ipynb`\n",
    "\n",
    "Notice that the file is a `.pynb` file — a python notebook. This is the file type we will use to write our code and document our methods during the data compiliation process.\n",
    "\n",
    "2. Launch Jupyter Lab to create a new `.ipynb` file that will be saved to your directory. \n",
    "\n",
    "On a Mac, use the terminal to navigate to the directory you've created and launch Jupyter Lab.\n",
    "\n",
    "> Refering to my file path above, I will now use the `cd` commands to navigate into my directory: \n",
    "\n",
    "    `cd Desktop`\n",
    "    'cd UNC-Writing-105`\n",
    "    `cd Python_Lessons`\n",
    "    \n",
    "Along the way, I can check my whereabouts by using the `ls` command to list the contains of my current directory location.\n",
    "\n",
    "Once in the appropriate directory, I can use the command `jupyter lab` to launch the environemnt in my browser.\n",
    "\n",
    "On a PC, use the Anaconda Navigator to launch jupyter.\n",
    "\n",
    "3. Create a new notebook file, using the graphical user interface."
   ]
  },
  {
   "cell_type": "markdown",
   "metadata": {},
   "source": [
    "### Python Fundamentals\n",
    "\n",
    "#### What is Python3?\n",
    "\n",
    "Python is a general-purpose programming language that has become popular for data and text analysis. Python can be easier to learn than other languages because it emphasizes (human) readability and flexibility. Python is the second most used language on GitHub; this means you'll find packages (sets of functionality developed by other users) to use Python for a wide variety of problems and tasks.\n",
    "\n",
    "If you haven't worked with a programming language before, learning Python will introduce you to methods used in many programming languages, making it easier to learn other languages like Java and R later on.\n",
    "\n",
    "To begin, we'll discuss 3 fundamental Python concepts:\n",
    "\n",
    "1. data/object types\n",
    "2. defining objects\n",
    "3. lists & indexing\n",
    "\n",
    "#### Data/Object Types\n",
    "\n",
    "Let's start by demonstrating some of the core tasks that Python can execute.\n",
    "\n",
    "First, we can use it as a simple calculator:"
   ]
  },
  {
   "cell_type": "code",
   "execution_count": 2,
   "metadata": {},
   "outputs": [
    {
     "data": {
      "text/plain": [
       "4"
      ]
     },
     "execution_count": 2,
     "metadata": {},
     "output_type": "execute_result"
    }
   ],
   "source": [
    "2+2"
   ]
  },
  {
   "cell_type": "markdown",
   "metadata": {},
   "source": [
    "Next, we can also use the `print` function to produce textual outputs, that we stipulate in advance."
   ]
  },
  {
   "cell_type": "code",
   "execution_count": 3,
   "metadata": {},
   "outputs": [
    {
     "name": "stdout",
     "output_type": "stream",
     "text": [
      "Hello World\n"
     ]
    }
   ],
   "source": [
    "print (\"Hello World\")"
   ]
  },
  {
   "cell_type": "markdown",
   "metadata": {},
   "source": [
    "These two commands illustrate two of the primary data/object types in python: integers (i.e., numbers), and strings (i.e., text).\n",
    "\n",
    "Primary data/objects common in python include: \n",
    "\n",
    "|Type | Example                                | Description                        |\n",
    "|-----|----------------------------------------|------------------------------------|\n",
    "| int |\t1, 2, 3                                | Integers (whole numbers)           |\n",
    "|float|\t1.5, 2.72, 3.14                        | Floating point numbers (decimals)  |\n",
    "|str  |\t\"cat\", \"dog\", \"car\"                    | String, character, or text values  |\n",
    "|list |\t[1, 2, 3], [\"cat\", \"dog\"], [1, [2, 3]] | One or more objects stored by order|\n",
    "\n",
    "#### Defining Objects\n",
    "\n",
    "We can create and define new objects in Python using the `=` sign. \n",
    "\n",
    "Depending on how we input these objects, Python will parse them as one or another of it's primary object types.\n",
    "\n",
    "For example, we can create an integer object called `number`"
   ]
  },
  {
   "cell_type": "code",
   "execution_count": 7,
   "metadata": {},
   "outputs": [
    {
     "name": "stdout",
     "output_type": "stream",
     "text": [
      "87\n"
     ]
    }
   ],
   "source": [
    "number = 87\n",
    "\n",
    "print (number)"
   ]
  },
  {
   "cell_type": "markdown",
   "metadata": {},
   "source": [
    "Likewise, we can creat a string object called `notnumber`"
   ]
  },
  {
   "cell_type": "code",
   "execution_count": 10,
   "metadata": {},
   "outputs": [
    {
     "name": "stdout",
     "output_type": "stream",
     "text": [
      "eighty seven\n"
     ]
    }
   ],
   "source": [
    "notnumber=\"eighty seven\"\n",
    "\n",
    "print (notnumber)"
   ]
  },
  {
   "cell_type": "markdown",
   "metadata": {},
   "source": [
    "We can get creative with this by defining objects, as combinations of pre-existing variables.\n",
    "\n",
    "For example:"
   ]
  },
  {
   "cell_type": "code",
   "execution_count": 12,
   "metadata": {},
   "outputs": [
    {
     "name": "stdout",
     "output_type": "stream",
     "text": [
      "13\n"
     ]
    }
   ],
   "source": [
    "enlarge = 13\n",
    "\n",
    "print (enlarge)"
   ]
  },
  {
   "cell_type": "code",
   "execution_count": 13,
   "metadata": {},
   "outputs": [
    {
     "data": {
      "text/plain": [
       "100"
      ]
     },
     "execution_count": 13,
     "metadata": {},
     "output_type": "execute_result"
    }
   ],
   "source": [
    "number+enlarge"
   ]
  },
  {
   "cell_type": "code",
   "execution_count": 15,
   "metadata": {},
   "outputs": [
    {
     "name": "stdout",
     "output_type": "stream",
     "text": [
      "100\n"
     ]
    }
   ],
   "source": [
    "total=number+enlarge\n",
    "print (total)"
   ]
  },
  {
   "cell_type": "markdown",
   "metadata": {},
   "source": [
    "#### Lists & Indexing\n",
    "\n",
    "The last thing I want to touch on today, is the way that python uses lists and indexing.\n",
    "\n",
    "Python's lists store multiple objects in a sequence. All of the data types we have seen so far (and indeed most data types in Python) can be placed in a list together (including other lists). \n",
    "\n",
    "For example, we can save numbers and character strings together:"
   ]
  },
  {
   "cell_type": "code",
   "execution_count": 17,
   "metadata": {},
   "outputs": [
    {
     "name": "stdout",
     "output_type": "stream",
     "text": [
      "[1, 2, 3, 'four']\n"
     ]
    }
   ],
   "source": [
    "my_list= [1, 2, 3, \"four\"]\n",
    "print (my_list)"
   ]
  },
  {
   "cell_type": "markdown",
   "metadata": {},
   "source": [
    "We can also define lists using previously defined objects (including other lists!):"
   ]
  },
  {
   "cell_type": "code",
   "execution_count": 18,
   "metadata": {},
   "outputs": [
    {
     "name": "stdout",
     "output_type": "stream",
     "text": [
      "[12, 'cat', ['a', 'b', 'c']]\n"
     ]
    }
   ],
   "source": [
    "obj0 = 12\n",
    "obj1 = \"cat\"\n",
    "obj2 = [\"a\", \"b\", \"c\"]\n",
    "my_list1 = [obj0, obj1, obj2]\n",
    "print(my_list1)"
   ]
  },
  {
   "cell_type": "markdown",
   "metadata": {},
   "source": [
    "Once we've defined a list, we can add more elements to it with the `.append` function."
   ]
  },
  {
   "cell_type": "code",
   "execution_count": 21,
   "metadata": {},
   "outputs": [
    {
     "name": "stdout",
     "output_type": "stream",
     "text": [
      "[12, 'cat', ['a', 'b', 'c'], 'dog', 'dog', 'dog']\n"
     ]
    }
   ],
   "source": [
    "my_list1.append(\"dog\")\n",
    "print(my_list1)"
   ]
  },
  {
   "cell_type": "markdown",
   "metadata": {},
   "source": [
    "Python retains the order of elements in our list and uses that order to retrieve objects in lists. These numbered positions are called indices.\n",
    "\n",
    "We use [ and ] to provide indices in Python.\n",
    "\n",
    "Most importantly, Python starts counting at zero: The first element in your list is denoted [0], the second [1], the third [2] and so on. This can take some getting used to!"
   ]
  },
  {
   "cell_type": "code",
   "execution_count": 22,
   "metadata": {},
   "outputs": [
    {
     "name": "stdout",
     "output_type": "stream",
     "text": [
      "cat\n",
      "dog\n",
      "parrot\n"
     ]
    },
    {
     "ename": "IndexError",
     "evalue": "list index out of range",
     "output_type": "error",
     "traceback": [
      "\u001b[0;31m---------------------------------------------------------------------------\u001b[0m",
      "\u001b[0;31mIndexError\u001b[0m                                Traceback (most recent call last)",
      "\u001b[0;32m<ipython-input-22-0b69a22ab9f3>\u001b[0m in \u001b[0;36m<module>\u001b[0;34m\u001b[0m\n\u001b[1;32m      3\u001b[0m \u001b[0mprint\u001b[0m\u001b[0;34m(\u001b[0m\u001b[0mmy_list2\u001b[0m\u001b[0;34m[\u001b[0m\u001b[0;36m1\u001b[0m\u001b[0;34m]\u001b[0m\u001b[0;34m)\u001b[0m\u001b[0;34m\u001b[0m\u001b[0;34m\u001b[0m\u001b[0m\n\u001b[1;32m      4\u001b[0m \u001b[0mprint\u001b[0m\u001b[0;34m(\u001b[0m\u001b[0mmy_list2\u001b[0m\u001b[0;34m[\u001b[0m\u001b[0;36m2\u001b[0m\u001b[0;34m]\u001b[0m\u001b[0;34m)\u001b[0m\u001b[0;34m\u001b[0m\u001b[0;34m\u001b[0m\u001b[0m\n\u001b[0;32m----> 5\u001b[0;31m \u001b[0mprint\u001b[0m\u001b[0;34m(\u001b[0m\u001b[0mmy_list2\u001b[0m\u001b[0;34m[\u001b[0m\u001b[0;36m3\u001b[0m\u001b[0;34m]\u001b[0m\u001b[0;34m)\u001b[0m\u001b[0;34m\u001b[0m\u001b[0;34m\u001b[0m\u001b[0m\n\u001b[0m",
      "\u001b[0;31mIndexError\u001b[0m: list index out of range"
     ]
    }
   ],
   "source": [
    "my_list2 = [\"cat\", \"dog\", \"parrot\"]\n",
    "print(my_list2[0])\n",
    "print(my_list2[1])\n",
    "print(my_list2[2])\n",
    "print(my_list2[3])"
   ]
  },
  {
   "cell_type": "markdown",
   "metadata": {},
   "source": [
    "Python returned an error for the line `print(my_list2[3]` because there is nothing there."
   ]
  },
  {
   "cell_type": "markdown",
   "metadata": {},
   "source": [
    "However, if we execute print on a valid index range from our list, we will get the following:"
   ]
  },
  {
   "cell_type": "code",
   "execution_count": 25,
   "metadata": {},
   "outputs": [
    {
     "data": {
      "text/plain": [
       "['cat']"
      ]
     },
     "execution_count": 25,
     "metadata": {},
     "output_type": "execute_result"
    }
   ],
   "source": [
    "my_list2[0:1]"
   ]
  },
  {
   "cell_type": "code",
   "execution_count": 23,
   "metadata": {},
   "outputs": [
    {
     "data": {
      "text/plain": [
       "['cat', 'dog']"
      ]
     },
     "execution_count": 23,
     "metadata": {},
     "output_type": "execute_result"
    }
   ],
   "source": [
    "my_list2[0:2]"
   ]
  },
  {
   "cell_type": "code",
   "execution_count": 24,
   "metadata": {},
   "outputs": [
    {
     "data": {
      "text/plain": [
       "['cat', 'dog', 'parrot']"
      ]
     },
     "execution_count": 24,
     "metadata": {},
     "output_type": "execute_result"
    }
   ],
   "source": [
    "my_list2[0:3]"
   ]
  },
  {
   "cell_type": "markdown",
   "metadata": {},
   "source": [
    "### Acknowledgements\n",
    "\n",
    "This overview and introduction to Python3 has been adapted from materials provided by the Davis Library Research Hub.\n",
    "\n",
    "For more detailed examples and exericses, see thier [Python: Introduciton lesson](https://unc-libraries-data.github.io/Python/Intro/Introduction_CrashCourse.html)"
   ]
  }
 ],
 "metadata": {
  "kernelspec": {
   "display_name": "Python 3 (ipykernel)",
   "language": "python",
   "name": "python3"
  },
  "language_info": {
   "codemirror_mode": {
    "name": "ipython",
    "version": 3
   },
   "file_extension": ".py",
   "mimetype": "text/x-python",
   "name": "python",
   "nbconvert_exporter": "python",
   "pygments_lexer": "ipython3",
   "version": "3.9.13"
  }
 },
 "nbformat": 4,
 "nbformat_minor": 4
}
